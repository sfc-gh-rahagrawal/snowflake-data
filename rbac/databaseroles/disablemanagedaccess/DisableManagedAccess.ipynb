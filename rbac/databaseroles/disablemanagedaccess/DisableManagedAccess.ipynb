{
 "cells": [
  {
   "cell_type": "code",
   "execution_count": null,
   "id": "3775908f-ca36-4846-8f38-5adca39217f2",
   "metadata": {
    "language": "python",
    "name": "Imports"
   },
   "outputs": [],
   "source": [
    "# Import python packages\n",
    "import streamlit as st\n",
    "import pandas as pd\n",
    "\n",
    "# We can also use Snowpark for our analyses!\n",
    "from snowflake.snowpark.context import get_active_session\n",
    "session = get_active_session()\n"
   ]
  },
  {
   "cell_type": "code",
   "execution_count": null,
   "id": "397ef330-b8a1-408b-8306-6f81c4a9cefd",
   "metadata": {
    "codeCollapsed": false,
    "language": "python",
    "name": "ExecuteScriptFlag"
   },
   "outputs": [],
   "source": [
    "EXECUTE_SCRIPT = True"
   ]
  },
  {
   "cell_type": "code",
   "execution_count": null,
   "id": "374f987d-d5bf-4d59-9960-03033192ce8f",
   "metadata": {
    "codeCollapsed": false,
    "language": "python",
    "name": "GlobalVar_Notebook"
   },
   "outputs": [],
   "source": [
    "ENV = 'D'\n",
    "DATABASE_NAME = f'D_WAGERING_WHS_DB'"
   ]
  },
  {
   "cell_type": "code",
   "execution_count": null,
   "id": "6d4e0916-a3d8-44f3-b2fb-c8a007230da9",
   "metadata": {
    "codeCollapsed": false,
    "language": "python",
    "name": "GlobalVar_DBRoleTypes"
   },
   "outputs": [],
   "source": [
    "DB_ROLE_TYPE_READ = \"RO\"\n",
    "DB_ROLE_TYPE_WRITE = \"RW\""
   ]
  },
  {
   "cell_type": "code",
   "execution_count": null,
   "id": "de48b437-3788-4850-8e39-617712d8153f",
   "metadata": {
    "codeCollapsed": false,
    "language": "python",
    "name": "GlobalVar_SnowflakeObjects"
   },
   "outputs": [],
   "source": [
    "SNOWFLAKE_SELECT_ITEMS = [\"TABLES\", \"VIEWS\", \"EXTERNAL TABLES\", \"DYNAMIC TABLES\", \"ICEBERG TABLES\", \"MATERIALIZED VIEWS\", \"STREAMS\"]\n",
    "SNOWFLAKE_REFERENCES_ITEMS = [\"TABLES\", \"VIEWS\", \"EXTERNAL TABLES\", \"ICEBERG TABLES\", \"MATERIALIZED VIEWS\"]\n",
    "\n",
    "SNOWFLAKE_USAGE_ITEMS = [\"FUNCTIONS\", \"PROCEDURES\", \"FILE FORMATS\", \"STAGES\", \"SEQUENCES\"]\n",
    "SNOWFLAKE_MONITOR_ITEMS = [\"TASKS\", \"ALERTS\", \"DYNAMIC TABLES\"]\n",
    "SNOWFLAKE_READ_ITEMS = [\"STAGES\"]\n",
    "\n",
    "SNOWFLAKE_ETL_ITEMS = [\"TABLES\", \"ICEBERG TABLES\"]\n",
    "SNOWFLAKE_WRITE_ITEMS = [\"STAGES\"]\n",
    "SNOWFLAKE_OPERATE_ITEMS = [\"DYNAMIC TABLES\", \"ALERTS\", \"TASKS\"]\n",
    "SNOWFLAKE_ETL_MONITOR_ITEMS = [\"PIPES\"]\n"
   ]
  },
  {
   "cell_type": "code",
   "execution_count": null,
   "id": "88f9bcbd-3981-4a67-af48-2486d7e477fc",
   "metadata": {
    "codeCollapsed": false,
    "language": "python",
    "name": "NewLineCharacter"
   },
   "outputs": [],
   "source": [
    "NEW_LINE = \"\\n\""
   ]
  },
  {
   "cell_type": "code",
   "execution_count": null,
   "id": "c74b902f-b118-4934-8007-ba0feaee4d06",
   "metadata": {
    "codeCollapsed": false,
    "language": "sql",
    "name": "ACCOUNTADMIN"
   },
   "outputs": [],
   "source": [
    "USE ROLE ACCOUNTADMIN;"
   ]
  },
  {
   "cell_type": "code",
   "execution_count": null,
   "id": "8a4d7872-1bfe-43cf-a9bf-a8c2fe60c4bd",
   "metadata": {
    "codeCollapsed": false,
    "language": "python",
    "name": "Get_DB_Schemas"
   },
   "outputs": [],
   "source": [
    "rslt = session.sql(f\"SHOW SCHEMAS IN DATABASE {DATABASE_NAME}\").collect()\n",
    "filtered_schemas = [row for row in rslt if row.name not in ('INFORMATION_SCHEMA', 'PUBLIC')]\n"
   ]
  },
  {
   "cell_type": "code",
   "execution_count": null,
   "id": "88cc1a74-62ec-40ce-b911-dbf00ca5ccbd",
   "metadata": {
    "codeCollapsed": false,
    "language": "python",
    "name": "Gen_ReadOnly"
   },
   "outputs": [],
   "source": [
    "for row in filtered_schemas:\n",
    "    schema_name = row.name\n",
    "    schema_role_name_read = f\"SC_{schema_name}_{DB_ROLE_TYPE_READ}\"\n",
    "\n",
    "    sql_script = f\"USE DATABASE {DATABASE_NAME};{NEW_LINE}\"\n",
    "    \n",
    "    for type in SNOWFLAKE_SELECT_ITEMS:\n",
    "        sql_script += f\"REVOKE SELECT ON FUTURE {type} IN SCHEMA {DATABASE_NAME}.{schema_name} FROM DATABASE ROLE {schema_role_name_read};{NEW_LINE}\"\n",
    "\n",
    "    for type in SNOWFLAKE_REFERENCES_ITEMS:\n",
    "        sql_script += f\"REVOKE REFERENCES ON FUTURE {type} IN SCHEMA {DATABASE_NAME}.{schema_name} FROM DATABASE ROLE {schema_role_name_read};{NEW_LINE}\"\n",
    "\n",
    "    for type in SNOWFLAKE_USAGE_ITEMS:\n",
    "        sql_script += f\"REVOKE USAGE ON FUTURE {type} IN SCHEMA {DATABASE_NAME}.{schema_name} FROM DATABASE ROLE {schema_role_name_read};{NEW_LINE}\"\n",
    "\n",
    "    for type in SNOWFLAKE_MONITOR_ITEMS:\n",
    "        sql_script += f\"REVOKE MONITOR ON FUTURE {type} IN SCHEMA {DATABASE_NAME}.{schema_name} FROM DATABASE ROLE {schema_role_name_read};{NEW_LINE}\"\n",
    "\n",
    "    for type in SNOWFLAKE_READ_ITEMS:\n",
    "        sql_script += f\"REVOKE READ ON FUTURE {type} IN SCHEMA {DATABASE_NAME}.{schema_name} FROM DATABASE ROLE {schema_role_name_read};{NEW_LINE}\"\n",
    "\n",
    "    sql_script += f\"{NEW_LINE}{NEW_LINE}\"\n",
    "    print (f\"--Starting generating script for schema {DATABASE_NAME}.{schema_name}\");\n",
    "    print (sql_script);\n",
    "\n",
    "    \n",
    "    if EXECUTE_SCRIPT:\n",
    "        \n",
    "        print (f\"--Execute script for schema {DATABASE_NAME}.{schema_name}\");\n",
    "        session.sql(\"ALTER SESSION SET MULTI_STATEMENT_COUNT = 0\").collect()\n",
    "        session.sql(sql_script).collect()\n",
    "    "
   ]
  },
  {
   "cell_type": "code",
   "execution_count": null,
   "id": "5db366a1-2fef-48a8-8257-b228505d7bb8",
   "metadata": {
    "codeCollapsed": false,
    "language": "python",
    "name": "Gen_Write"
   },
   "outputs": [],
   "source": [
    "for row in filtered_schemas:\n",
    "    schema_name = row.name\n",
    "    schema_role_name_write = f\"SC_{schema_name}_{DB_ROLE_TYPE_WRITE}\"\n",
    "\n",
    "    sql_script = f\"USE DATABASE {DATABASE_NAME};{NEW_LINE}\"\n",
    "\n",
    "    for type in SNOWFLAKE_ETL_ITEMS:\n",
    "        sql_script += f\"REVOKE INSERT, UPDATE, DELETE, TRUNCATE ON FUTURE {type} IN SCHEMA {DATABASE_NAME}.{schema_name} FROM DATABASE ROLE {schema_role_name_write};{NEW_LINE}\"\n",
    "\n",
    "    for type in SNOWFLAKE_WRITE_ITEMS:\n",
    "        sql_script += f\"REVOKE READ, WRITE ON FUTURE {type} IN SCHEMA {DATABASE_NAME}.{schema_name} FROM DATABASE ROLE {schema_role_name_write};{NEW_LINE}\"\n",
    "\n",
    "    for type in SNOWFLAKE_OPERATE_ITEMS:\n",
    "        sql_script += f\"REVOKE OPERATE ON FUTURE {type} IN SCHEMA {DATABASE_NAME}.{schema_name} FROM DATABASE ROLE {schema_role_name_write};{NEW_LINE}\"\n",
    "\n",
    "    for type in SNOWFLAKE_ETL_MONITOR_ITEMS:\n",
    "        sql_script += f\"REVOKE MONITOR ON FUTURE {type} IN SCHEMA {DATABASE_NAME}.{schema_name} FROM DATABASE ROLE {schema_role_name_write};{NEW_LINE}\"\n",
    "\n",
    "    sql_script += f\"{NEW_LINE}{NEW_LINE}\"\n",
    "    print (f\"--Starting generating script for schema {schema_name}\");\n",
    "    print (sql_script);\n",
    "\n",
    "    if EXECUTE_SCRIPT:\n",
    "        print (f\"--Execute script for schema {DATABASE_NAME}.{schema_name}\");\n",
    "        session.sql(\"ALTER SESSION SET MULTI_STATEMENT_COUNT = 0\").collect()\n",
    "        session.sql(sql_script).collect()\n",
    "    "
   ]
  },
  {
   "cell_type": "code",
   "execution_count": null,
   "id": "c4bd8db0-092f-498f-bf4e-2d59ef8118e2",
   "metadata": {
    "codeCollapsed": false,
    "language": "python",
    "name": "Gen_ManagedSchema"
   },
   "outputs": [],
   "source": [
    "for row in filtered_schemas:\n",
    "    schema_name = f\"{row.name}\"\n",
    "        \n",
    "    sql_script = f\"USE DATABASE {DATABASE_NAME};{NEW_LINE}\"\n",
    "    sql_script += f\"ALTER SCHEMA {DATABASE_NAME}.{row.name} DISABLE MANAGED ACCESS;\"\n",
    "    print (sql_script);\n",
    "\n",
    "    if EXECUTE_SCRIPT:\n",
    "        session.sql(\"ALTER SESSION SET MULTI_STATEMENT_COUNT = 0\").collect()\n",
    "        session.sql(sql_script).collect()\n",
    "        "
   ]
  },
  {
   "cell_type": "code",
   "execution_count": null,
   "id": "5d2a6af8-345a-4f3a-8c70-3f82c6aa791b",
   "metadata": {
    "language": "python",
    "name": "cell1"
   },
   "outputs": [],
   "source": []
  }
 ],
 "metadata": {
  "kernelspec": {
   "display_name": "Streamlit Notebook",
   "name": "streamlit"
  },
  "lastEditStatus": {
   "authorEmail": "",
   "authorId": "5756783428071",
   "authorName": "TABRAG",
   "lastEditTime": 1747804681207,
   "notebookId": "vanjlckvngosa4764qg4",
   "sessionId": "8cb67dbd-c7f9-4d20-b40e-d74edd960684"
  }
 },
 "nbformat": 4,
 "nbformat_minor": 5
}
