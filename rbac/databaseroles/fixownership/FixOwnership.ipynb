{
 "metadata": {
  "kernelspec": {
   "display_name": "Streamlit Notebook",
   "name": "streamlit"
  },
  "lastEditStatus": {
   "notebookId": "hhxhqopxm23isigv523w",
   "authorId": "5756783428071",
   "authorName": "TABRAG",
   "authorEmail": "",
   "sessionId": "0177c9de-546c-4ef7-ba1d-e443466dc5c7",
   "lastEditTime": 1749193109961
  }
 },
 "nbformat_minor": 5,
 "nbformat": 4,
 "cells": [
  {
   "cell_type": "code",
   "id": "3775908f-ca36-4846-8f38-5adca39217f2",
   "metadata": {
    "language": "python",
    "name": "cell1"
   },
   "source": "# Import python packages\nimport streamlit as st\nimport pandas as pd\n\n# We can also use Snowpark for our analyses!\nfrom snowflake.snowpark.context import get_active_session\nsession = get_active_session()\n",
   "execution_count": null,
   "outputs": []
  },
  {
   "cell_type": "code",
   "id": "8d50cbf4-0c8d-4950-86cb-114990437ac9",
   "metadata": {
    "language": "sql",
    "name": "cell2"
   },
   "source": "USE ROLE ACCOUNTADMIN;\n",
   "execution_count": null,
   "outputs": []
  },
  {
   "cell_type": "code",
   "id": "63b31c81-e03a-4da4-babe-f34f50759082",
   "metadata": {
    "language": "python",
    "name": "cell5"
   },
   "outputs": [],
   "source": "ENV = \"D\"",
   "execution_count": null
  },
  {
   "cell_type": "code",
   "id": "a21aa7ea-5e1b-49a4-a8d7-074597f91a47",
   "metadata": {
    "language": "python",
    "name": "cell4"
   },
   "outputs": [],
   "source": "rslt = session.sql(f\"show grants to role {ENV}_PLATFORM_AUTOMATION_ROLE\").collect()\nrslt",
   "execution_count": null
  },
  {
   "cell_type": "code",
   "id": "c695373e-ac74-4b62-a1f1-08206cbd5c81",
   "metadata": {
    "language": "python",
    "name": "cell3"
   },
   "source": "for row in rslt:\n    if row.privilege == \"OWNERSHIP\":\n        if row.granted_on == \"FILE_FORMAT\":\n            object_type = \"FILE FORMAT\"\n        else:\n            object_type = row.granted_on\n            \n        sql = f\"GRANT OWNERSHIP ON {object_type} {row.name} TO ROLE {ENV}_DEVOPS_ADMIN REVOKE CURRENT GRANTS;\"\n        print(sql)\n        session.sql(sql).collect()",
   "execution_count": null,
   "outputs": []
  }
 ]
}