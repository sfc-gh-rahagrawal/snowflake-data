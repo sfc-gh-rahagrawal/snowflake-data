{
 "cells": [
  {
   "cell_type": "code",
   "execution_count": null,
   "id": "3775908f-ca36-4846-8f38-5adca39217f2",
   "metadata": {
    "language": "python",
    "name": "Libraries"
   },
   "outputs": [],
   "source": [
    "# Import python packages\n",
    "import streamlit as st\n",
    "import pandas as pd\n",
    "import json\n",
    "import sys\n",
    "\n",
    "# We can also use Snowpark for our analyses!\n",
    "from snowflake.snowpark.context import get_active_session\n",
    "session = get_active_session()"
   ]
  },
  {
   "cell_type": "markdown",
   "id": "f0cc6b3b-77bb-434f-97ad-c2132b5350cc",
   "metadata": {
    "collapsed": false,
    "name": "cell3"
   },
   "source": [
    "## Parameter instruction"
   ]
  },
  {
   "cell_type": "code",
   "execution_count": null,
   "id": "c4c3acba-1067-44f4-8193-b26417a4def5",
   "metadata": {
    "codeCollapsed": false,
    "language": "python",
    "name": "cell2"
   },
   "outputs": [],
   "source": [
    "'''\n",
    "If calling the notebook from a task using EXECUTE NOTEBOOK MY_DATABASE.PUBLIC.MY_NOTEBOOK\n",
    "please pass the following three params\n",
    "\n",
    "1. Source Account Identifier\n",
    "2. Data Share Name\n",
    "3. Source Database environment Identifier (e.g. _PRD if the database on Production follows a suffix DB_CORE_HR_PRD)\n",
    "\n",
    "The values will be read internally by notebook as follows\n",
    "sys.argv = ['SRCACCOUNT', 'SHARENAME', '_PRD']\n",
    "\n",
    "If there are no params passed then the notebook will use the default values fro the config.json file\n",
    "and sys.argv will be blank\n",
    "sys.argv = []\n",
    "'''\n"
   ]
  },
  {
   "cell_type": "code",
   "execution_count": null,
   "id": "af7390a5-b1af-4336-8bc5-e4bba277143b",
   "metadata": {
    "codeCollapsed": false,
    "language": "python",
    "name": "ReadConfig"
   },
   "outputs": [],
   "source": [
    "import yaml\n",
    "\n",
    "# Load Configuration from file or string\n",
    "with open(\"config.yaml\", \"r\") as f:\n",
    "    app_config = yaml.safe_load(f)\n",
    "\n",
    "app_config"
   ]
  },
  {
   "cell_type": "code",
   "execution_count": null,
   "id": "74c97e08-fb85-45fb-8700-8b9674d96bb1",
   "metadata": {
    "codeCollapsed": false,
    "language": "python",
    "name": "cell4"
   },
   "outputs": [],
   "source": [
    "if len(sys.argv) == 3:\n",
    "    V_source_account = sys.argv[0]\n",
    "    V_share_name = sys.argv[1]\n",
    "    V_source_environment_identifier = sys.argv[2]\n",
    "else:\n",
    "    V_source_account = app_config['default']['source_account']\n",
    "    V_share_name = app_config['default']['share_name']\n",
    "    V_source_environment_identifier = app_config['default']['source_environment_identifier']\n",
    "\n",
    "V_organisation_name = session.sql('SELECT CURRENT_ORGANIZATION_NAME()').collect()[0][0]\n",
    "\n",
    "V_this_environment_identifier = app_config['this_environment_identifier']\n",
    "V_log_table = app_config['log_table']\n",
    "V_execution_role = app_config['execution_role']\n",
    "V_create_table_if_not_exists = app_config['create_table_if_not_exists']\n",
    "V_create_schema_if_not_exists = app_config['create_schema_if_not_exists']\n",
    "\n",
    "V_mask_column_list = app_config['mask_column_list']\n",
    "\n",
    "print (f\"{V_organisation_name}.{V_source_account} | {V_share_name} | {V_source_environment_identifier} | {V_this_environment_identifier}\")\n",
    "print (f\"{V_execution_role} | {V_create_schema_if_not_exists} | {V_create_table_if_not_exists}\")"
   ]
  },
  {
   "cell_type": "code",
   "execution_count": null,
   "id": "78e03123-9823-4482-abeb-4e87d2c62fc9",
   "metadata": {
    "codeCollapsed": false,
    "language": "python",
    "name": "cell1"
   },
   "outputs": [],
   "source": [
    "# Set Execution Role context\n",
    "sql = f\"USE ROLE {V_execution_role}\"\n",
    "print(sql)\n",
    "session.sql(sql).collect()"
   ]
  },
  {
   "cell_type": "code",
   "execution_count": null,
   "id": "02938198-c555-4cbc-9487-d444d43160df",
   "metadata": {
    "codeCollapsed": false,
    "language": "python",
    "name": "ReadDataShareConfig"
   },
   "outputs": [],
   "source": [
    "sql = f\"SHOW SHARES LIKE '{V_share_name}'\"\n",
    "share = session.sql(sql).collect()\n",
    "\n",
    "# Access the COMMENT field from the first row\n",
    "comment = share[0][\"comment\"] if share else None\n",
    "\n",
    "# print(\"Comment:\", comment)\n",
    "json_comment = comment.replace(\"'\", '\"')\n",
    "json_data = json.loads(json_comment)\n",
    "json_data\n",
    "\n",
    "table_details = json_data[\"tables\"]\n",
    "database_name = json_data[\"database_name\"]\n",
    "target_database = database_name.replace(V_source_environment_identifier, V_this_environment_identifier)\n",
    "print(f\"{database_name} --> {target_database}\")"
   ]
  },
  {
   "cell_type": "code",
   "execution_count": null,
   "id": "f2614038-ba4f-4ef6-abcd-fb18c287a6d5",
   "metadata": {
    "codeCollapsed": false,
    "language": "python",
    "name": "CreateShareDB"
   },
   "outputs": [],
   "source": [
    "# Create Shared Database\n",
    "source_shared_db = f\"READER{V_share_name}\"\n",
    "sql = f\"CREATE OR REPLACE DATABASE {source_shared_db} FROM SHARE {V_organisation_name}.{V_source_account}.{V_share_name}\"\n",
    "print(sql)\n",
    "session.sql(sql).collect()"
   ]
  },
  {
   "cell_type": "code",
   "execution_count": null,
   "id": "13b0108b-119f-40ef-a59c-52cd4c07432d",
   "metadata": {
    "codeCollapsed": false,
    "language": "python",
    "name": "LogTableDefinition"
   },
   "outputs": [],
   "source": [
    "def data_share_log_table_info(share_name, log_table, target_db, target_schema, target_table, date_col, filter_date, creator_id, config, refresh_ts):\n",
    "\n",
    "    filter_date = 'NULL' if filter_date == '' else f\"'{filter_date}'\"\n",
    "    config_json = json.dumps(config)  # converts dict to JSON string with double quotes\n",
    "    config_sql_value = f\"PARSE_JSON('{config_json}')\"\n",
    "\n",
    "    log_sql = f\"\"\"\n",
    "    INSERT INTO {log_table} (SHARE_NAME, DATABASE_NAME, SCHEMA_NAME, TABLE_NAME, FILTER_DATE_COLUMN, FILTER_DATE, DATA_SHARE_CREATOR_ID, DATA_SHARE_CONFIG, REFRESH_TS)\n",
    "        SELECT\n",
    "            '{share_name}',\n",
    "            '{target_db}',\n",
    "            '{target_schema}',\n",
    "            '{target_table}',\n",
    "            '{date_col}',\n",
    "            {filter_date},\n",
    "            '{creator_id}',\n",
    "            {config_sql_value},\n",
    "            '{refresh_ts}'\n",
    "    \"\"\"\n",
    "    \n",
    "    session.sql(log_sql).collect()    "
   ]
  },
  {
   "cell_type": "code",
   "execution_count": null,
   "id": "d8541033-6895-4a5b-9be2-e68a309f986f",
   "metadata": {
    "codeCollapsed": false,
    "language": "python",
    "name": "LoadShareTables"
   },
   "outputs": [],
   "source": [
    "from datetime import datetime\n",
    "\n",
    "# Define the new mask column list\n",
    "mask_column_list = \"name, email, login\"\n",
    "\n",
    "refresh_ts = datetime.utcnow()\n",
    "for table_full_name, share_config in table_details.items():\n",
    "    schema_name, table_name = table_full_name.split('.')\n",
    "\n",
    "    column_sql = f\"\"\"\n",
    "        SELECT COLUMN_NAME, DATA_TYPE\n",
    "        FROM {source_shared_db}.INFORMATION_SCHEMA.COLUMNS\n",
    "        WHERE TABLE_SCHEMA = '{schema_name}' AND TABLE_NAME = '{table_name}'\n",
    "        ORDER BY ORDINAL_POSITION\n",
    "    \"\"\"\n",
    "\n",
    "    df_cols = session.sql(column_sql)\n",
    "    df_pd = df_cols.to_pandas()\n",
    "\n",
    "    # Original column list (raw, unchanged)\n",
    "    col_list_original = df_pd[\"COLUMN_NAME\"].tolist()\n",
    "    raw_cols = \", \".join(col_list_original)\n",
    "\n",
    "    # Start with the original list, and allow modifications\n",
    "    col_list = col_list_original.copy()\n",
    "\n",
    "    # Create a lookup for column data types\n",
    "    col_type_map = dict(zip(df_pd[\"COLUMN_NAME\"], df_pd[\"DATA_TYPE\"]))\n",
    "\n",
    "    # Apply masking if needed\n",
    "    if \"mask\" in share_config:\n",
    "        for mask_info in share_config[\"mask\"][\"columns\"]:\n",
    "            mask_column = mask_info[\"mask_column\"]\n",
    "            masked_tag = mask_info[\"masked_tag\"]\n",
    "            for i in range(len(col_list)):\n",
    "                if mask_column == col_list[i]:\n",
    "                    if masked_tag.startswith(\"=\"):\n",
    "                        col_list[i] = f\"{masked_tag[1:]} AS {mask_column}\"\n",
    "                    else:\n",
    "                        col_data_type = col_type_map.get(mask_column, \"\").lower()\n",
    "                        if any(t in col_data_type for t in [\"number\", \"int\", \"float\", \"decimal\", \"boolean\"]):\n",
    "                            col_list[i] = f\"{masked_tag} AS {mask_column}\"  # no quotes\n",
    "                        else:\n",
    "                            col_list[i] = f\"'{masked_tag}' AS {mask_column}\"  # with quotes\n",
    "\n",
    "    # Convert the mask_column_list string to a list of patterns\n",
    "    mask_patterns = [pattern.strip() for pattern in V_mask_column_list]\n",
    "\n",
    "    # Loop through all columns and apply pattern-based masking\n",
    "    for i in range(len(col_list)):\n",
    "        column_name = col_list_original[i]  # Use original to avoid matching on aliased columns\n",
    "        for pattern in mask_patterns:\n",
    "            if pattern.lower() in column_name.lower():\n",
    "                # Overwrite the column with a masked value\n",
    "                col_list[i] = f\"'*' AS {column_name}\"\n",
    "                break # Move to the next column once a match is found\n",
    "\n",
    "    val_cols = \", \".join(col_list)\n",
    "\n",
    "    target_table = f\"{target_database}.{schema_name}.{table_name}\"\n",
    "    source_table = f\"{source_shared_db}.{schema_name}.{table_name}\"\n",
    "\n",
    "\n",
    "    select_sql = f\"SELECT {val_cols} FROM {source_table}\"\n",
    "    # Apply filter if provided\n",
    "    if \"filter\" in share_config:\n",
    "        date_column = share_config['filter']['date_column']\n",
    "        filter_date = json_data['filter_date']\n",
    "        select_sql += f\" WHERE TO_DATE({date_column}) > '{filter_date}'\"\n",
    "    else:\n",
    "        date_column = ''\n",
    "        filter_date = ''\n",
    "\n",
    "    execute_sql = \"\"\n",
    "    if V_create_schema_if_not_exists:\n",
    "        execute_sql += f\"CREATE OR ALTER SCHEMA {target_database}.{schema_name}; \"\n",
    "\n",
    "    print(f\"Loading table {target_table}\")\n",
    "    print(f\"{select_sql}\")\n",
    "    \n",
    "    if V_create_table_if_not_exists:\n",
    "        execute_sql += f\"CREATE OR REPLACE TABLE {target_table} AS {select_sql}; \"\n",
    "    else:\n",
    "        execute_sql += f\"TRUNCATE TABLE {target_table};\"\n",
    "        execute_sql += f\"INSERT INTO {target_table} ({raw_cols}) {select_sql}; \"\n",
    "\n",
    "    session.sql(\"ALTER SESSION SET MULTI_STATEMENT_COUNT = 0\").collect()\n",
    "    session.sql(execute_sql).collect()\n",
    "\n",
    "    data_share_log_table_info(\n",
    "        V_share_name,\n",
    "        V_log_table,\n",
    "        target_database,\n",
    "        schema_name,\n",
    "        table_name,\n",
    "        date_column,\n",
    "        filter_date,\n",
    "        json_data['share_created_by'],\n",
    "        share_config,\n",
    "        refresh_ts\n",
    "    )\n",
    "\n",
    "print(f\"Finished loading tables to database {target_database}\")"
   ]
  },
  {
   "cell_type": "code",
   "execution_count": null,
   "id": "dfd37f07-f4e3-4e19-85a5-557546147c4c",
   "metadata": {
    "codeCollapsed": false,
    "language": "python",
    "name": "SeeLogInfo"
   },
   "outputs": [],
   "source": [
    "df = session.sql(f\"select * from {V_log_table} where refresh_ts = '{refresh_ts}' order by record_id\").collect()\n",
    "df"
   ]
  }
 ],
 "metadata": {
  "kernelspec": {
   "display_name": "Streamlit Notebook",
   "name": "streamlit"
  },
  "lastEditStatus": {
   "authorEmail": "",
   "authorId": "5756783428071",
   "authorName": "TABRAG",
   "lastEditTime": 1751258907916,
   "notebookId": "4b3qv72f3ptxnrtu6tss",
   "sessionId": "e131d0ec-998b-4512-80ec-3e4c967ab0f6"
  }
 },
 "nbformat": 4,
 "nbformat_minor": 5
}
